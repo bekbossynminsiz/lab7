{
 "cells": [
  {
   "cell_type": "code",
   "execution_count": 4,
   "id": "be395877-d38e-4f64-bef0-3db901af372d",
   "metadata": {},
   "outputs": [],
   "source": [
    "#task1\n",
    "import pygame\n",
    "import datetime\n",
    "\n",
    "pygame.init()\n",
    "screen = pygame.display.set_mode((920, 700))\n",
    "clock = pygame.time.Clock()\n",
    "\n",
    "image = pygame.image.load(r'C:\\Users\\Minsiz\\Desktop\\pygame\\clock.png')\n",
    "image = pygame.transform.scale(image, (600, 600))\n",
    "\n",
    "minute_img = pygame.image.load(r'C:\\Users\\Minsiz\\Desktop\\pygame\\min_hand.png')\n",
    "minute_img = pygame.transform.scale(minute_img, (600, 400))\n",
    "second_img = pygame.image.load(r'C:\\Users\\Minsiz\\Desktop\\pygame\\sec_hand.png')\n",
    "second_img = pygame.transform.scale(second_img, (600, 400))\n",
    "\n",
    "done = False\n",
    "\n",
    "while not done:\n",
    "    for event in pygame.event.get():\n",
    "        if event.type == pygame.QUIT:\n",
    "            done = True  \n",
    "\n",
    "    current_time = datetime.datetime.now()\n",
    "    hour = int(current_time.strftime(\"%I\"))\n",
    "    minute = int(current_time.strftime(\"%M\"))\n",
    "    second = int(current_time.strftime(\"%S\"))\n",
    "\n",
    "    hour_angle = (hour % 12 + minute / 60) * 30 * -1\n",
    "    minute_angle = minute * 6 * -1 - 30\n",
    "    second_angle = second * 6 * -1 - 50\n",
    "\n",
    "    rotated_minute = pygame.transform.rotate(minute_img, minute_angle)\n",
    "    rotated_second = pygame.transform.rotate(second_img, second_angle)\n",
    "\n",
    "    screen.fill((255, 255, 255))\n",
    "    screen.blit(image, (100, 100))\n",
    "    screen.blit(rotated_second, (400 - int(rotated_second.get_width() / 2), 400 - int(rotated_second.get_height() / 2)))\n",
    "    screen.blit(rotated_minute, (400 - int(rotated_minute.get_width() / 2), 400 - int(rotated_minute.get_height() / 2)))\n",
    "    pygame.display.flip()\n",
    "    clock.tick(60)\n",
    "\n",
    "pygame.quit()"
   ]
  },
  {
   "cell_type": "code",
   "execution_count": null,
   "id": "da162cd8-dc58-41aa-9395-49af7a114a75",
   "metadata": {},
   "outputs": [],
   "source": []
  }
 ],
 "metadata": {
  "kernelspec": {
   "display_name": "Python [conda env:base] *",
   "language": "python",
   "name": "conda-base-py"
  },
  "language_info": {
   "codemirror_mode": {
    "name": "ipython",
    "version": 3
   },
   "file_extension": ".py",
   "mimetype": "text/x-python",
   "name": "python",
   "nbconvert_exporter": "python",
   "pygments_lexer": "ipython3",
   "version": "3.12.7"
  }
 },
 "nbformat": 4,
 "nbformat_minor": 5
}
